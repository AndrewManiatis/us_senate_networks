{
 "cells": [
  {
   "cell_type": "code",
   "execution_count": 1,
   "id": "a9290c1b",
   "metadata": {},
   "outputs": [],
   "source": [
    "import config\n",
    "import numpy as np\n",
    "from matplotlib import pyplot as plt\n",
    "import pandas as pd\n",
    "import json\n",
    "from urllib.request import urlopen\n",
    "import ast\n",
    "import datetime\n",
    "import os\n",
    "import altair as alt\n",
    "import math\n",
    "import time\n",
    "pd.set_option('display.max_colwidth', None)\n",
    "pd.options.mode.copy_on_write = True"
   ]
  },
  {
   "cell_type": "code",
   "execution_count": 2,
   "id": "e263ddd2",
   "metadata": {},
   "outputs": [],
   "source": [
    "API_KEY = config.api_key\n",
    "current_directory = os.getcwd()\n",
    "main_dir = os.path.dirname(current_directory)\n",
    "data = os.path.join(os.path.dirname(current_directory), \"data\")\n",
    "images = os.path.join(os.path.dirname(current_directory), \"images\")\n",
    "htmls = os.path.join(os.path.dirname(current_directory), \"htmls\")\n",
    "screenshots = os.path.join(os.path.dirname(current_directory), \"screenshots\")"
   ]
  },
  {
   "cell_type": "markdown",
   "id": "bc85353c",
   "metadata": {},
   "source": [
    "### Now we need to find all bills during the time studied as well their respective sponsors and co-sponsors\n",
    "\n",
    "1) We will find the (i) sponsored legislation and (ii) co-sponsored legislation of each member in the super-senate\n",
    "\n",
    "2) We will keep bills introduced only during the time span studied: 2011-2021 (112th-116th congress)"
   ]
  },
  {
   "cell_type": "code",
   "execution_count": 3,
   "id": "03e54e2e",
   "metadata": {},
   "outputs": [
    {
     "data": {
      "text/html": [
       "<div>\n",
       "<style scoped>\n",
       "    .dataframe tbody tr th:only-of-type {\n",
       "        vertical-align: middle;\n",
       "    }\n",
       "\n",
       "    .dataframe tbody tr th {\n",
       "        vertical-align: top;\n",
       "    }\n",
       "\n",
       "    .dataframe thead th {\n",
       "        text-align: right;\n",
       "    }\n",
       "</style>\n",
       "<table border=\"1\" class=\"dataframe\">\n",
       "  <thead>\n",
       "    <tr style=\"text-align: right;\">\n",
       "      <th></th>\n",
       "      <th>bioguideId</th>\n",
       "      <th>name</th>\n",
       "      <th>terms</th>\n",
       "      <th>state</th>\n",
       "      <th>party</th>\n",
       "      <th>birthYear</th>\n",
       "      <th>sponsoredLegislation_count</th>\n",
       "      <th>sponsoredLegislation_url</th>\n",
       "      <th>cosponsoredLegislation_count</th>\n",
       "      <th>cosponsoredLegislation_url</th>\n",
       "      <th>years_house</th>\n",
       "      <th>years_senate</th>\n",
       "    </tr>\n",
       "  </thead>\n",
       "  <tbody>\n",
       "    <tr>\n",
       "      <th>0</th>\n",
       "      <td>C001098</td>\n",
       "      <td>Cruz, Ted</td>\n",
       "      <td>{'item': [{'chamber': 'Senate', 'startYear': 2013}]}</td>\n",
       "      <td>Texas</td>\n",
       "      <td>Republican</td>\n",
       "      <td>1970</td>\n",
       "      <td>773.0</td>\n",
       "      <td>https://api.congress.gov/v3/member/C001098/sponsored-legislation</td>\n",
       "      <td>1579</td>\n",
       "      <td>https://api.congress.gov/v3/member/C001098/cosponsored-legislation</td>\n",
       "      <td>0</td>\n",
       "      <td>11</td>\n",
       "    </tr>\n",
       "    <tr>\n",
       "      <th>1</th>\n",
       "      <td>W000817</td>\n",
       "      <td>Warren, Elizabeth</td>\n",
       "      <td>{'item': [{'chamber': 'Senate', 'startYear': 2013}]}</td>\n",
       "      <td>Massachusetts</td>\n",
       "      <td>Democratic</td>\n",
       "      <td>1949</td>\n",
       "      <td>569.0</td>\n",
       "      <td>https://api.congress.gov/v3/member/W000817/sponsored-legislation</td>\n",
       "      <td>3457</td>\n",
       "      <td>https://api.congress.gov/v3/member/W000817/cosponsored-legislation</td>\n",
       "      <td>0</td>\n",
       "      <td>11</td>\n",
       "    </tr>\n",
       "    <tr>\n",
       "      <th>2</th>\n",
       "      <td>W000802</td>\n",
       "      <td>Whitehouse, Sheldon</td>\n",
       "      <td>{'item': [{'chamber': 'Senate', 'startYear': 2007}]}</td>\n",
       "      <td>Rhode Island</td>\n",
       "      <td>Democratic</td>\n",
       "      <td>1955</td>\n",
       "      <td>564.0</td>\n",
       "      <td>https://api.congress.gov/v3/member/W000802/sponsored-legislation</td>\n",
       "      <td>4062</td>\n",
       "      <td>https://api.congress.gov/v3/member/W000802/cosponsored-legislation</td>\n",
       "      <td>0</td>\n",
       "      <td>17</td>\n",
       "    </tr>\n",
       "  </tbody>\n",
       "</table>\n",
       "</div>"
      ],
      "text/plain": [
       "  bioguideId                 name  \\\n",
       "0    C001098            Cruz, Ted   \n",
       "1    W000817    Warren, Elizabeth   \n",
       "2    W000802  Whitehouse, Sheldon   \n",
       "\n",
       "                                                  terms          state  \\\n",
       "0  {'item': [{'chamber': 'Senate', 'startYear': 2013}]}          Texas   \n",
       "1  {'item': [{'chamber': 'Senate', 'startYear': 2013}]}  Massachusetts   \n",
       "2  {'item': [{'chamber': 'Senate', 'startYear': 2007}]}   Rhode Island   \n",
       "\n",
       "        party  birthYear  sponsoredLegislation_count  \\\n",
       "0  Republican       1970                       773.0   \n",
       "1  Democratic       1949                       569.0   \n",
       "2  Democratic       1955                       564.0   \n",
       "\n",
       "                                           sponsoredLegislation_url  \\\n",
       "0  https://api.congress.gov/v3/member/C001098/sponsored-legislation   \n",
       "1  https://api.congress.gov/v3/member/W000817/sponsored-legislation   \n",
       "2  https://api.congress.gov/v3/member/W000802/sponsored-legislation   \n",
       "\n",
       "   cosponsoredLegislation_count  \\\n",
       "0                          1579   \n",
       "1                          3457   \n",
       "2                          4062   \n",
       "\n",
       "                                           cosponsoredLegislation_url  \\\n",
       "0  https://api.congress.gov/v3/member/C001098/cosponsored-legislation   \n",
       "1  https://api.congress.gov/v3/member/W000817/cosponsored-legislation   \n",
       "2  https://api.congress.gov/v3/member/W000802/cosponsored-legislation   \n",
       "\n",
       "   years_house  years_senate  \n",
       "0            0            11  \n",
       "1            0            11  \n",
       "2            0            17  "
      ]
     },
     "execution_count": 3,
     "metadata": {},
     "output_type": "execute_result"
    }
   ],
   "source": [
    "super_senate = pd.read_csv(data + \"//super_senate.csv\")\n",
    "super_senate.head(3)"
   ]
  },
  {
   "cell_type": "code",
   "execution_count": 4,
   "id": "f7b8569f",
   "metadata": {},
   "outputs": [
    {
     "data": {
      "image/png": "[encoded data removed]",
      "text/plain": [
       "<IPython.core.display.Image object>"
      ]
     },
     "metadata": {},
     "output_type": "display_data"
    }
   ],
   "source": [
    "from IPython.display import Image, display\n",
    "\n",
    "# Replace the file path with the correct one if needed\n",
    "file_path = screenshots + '//Screenshot_1.png'\n",
    "\n",
    "# Display the image\n",
    "display(Image(filename=file_path))"
   ]
  },
  {
   "cell_type": "code",
   "execution_count": null,
   "id": "8de41223",
   "metadata": {},
   "outputs": [],
   "source": []
  }
 ],
 "metadata": {
  "kernelspec": {
   "display_name": "Python 3 (ipykernel)",
   "language": "python",
   "name": "python3"
  },
  "language_info": {
   "codemirror_mode": {
    "name": "ipython",
    "version": 3
   },
   "file_extension": ".py",
   "mimetype": "text/x-python",
   "name": "python",
   "nbconvert_exporter": "python",
   "pygments_lexer": "ipython3",
   "version": "3.9.7"
  }
 },
 "nbformat": 4,
 "nbformat_minor": 5
}
