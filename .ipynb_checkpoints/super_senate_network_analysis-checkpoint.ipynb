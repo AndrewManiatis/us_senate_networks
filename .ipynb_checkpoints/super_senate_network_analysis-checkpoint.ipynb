{
 "cells": [
  {
   "cell_type": "markdown",
   "id": "891081c3",
   "metadata": {},
   "source": [
    "### Now we need to find all bills during the time studied as well their respective sponsors and co-sponsors\n",
    "\n",
    "We are going to implement a dict of sets with bills filtered in the desired time span"
   ]
  },
  {
   "cell_type": "code",
   "execution_count": null,
   "id": "f7bb2c28",
   "metadata": {},
   "outputs": [],
   "source": []
  }
 ],
 "metadata": {
  "kernelspec": {
   "display_name": "Python 3 (ipykernel)",
   "language": "python",
   "name": "python3"
  },
  "language_info": {
   "codemirror_mode": {
    "name": "ipython",
    "version": 3
   },
   "file_extension": ".py",
   "mimetype": "text/x-python",
   "name": "python",
   "nbconvert_exporter": "python",
   "pygments_lexer": "ipython3",
   "version": "3.9.7"
  }
 },
 "nbformat": 4,
 "nbformat_minor": 5
}
